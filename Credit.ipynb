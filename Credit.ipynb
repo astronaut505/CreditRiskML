{
 "cells": [
  {
   "cell_type": "code",
   "execution_count": null,
   "id": "add1fa5d-043c-473a-84b9-eb36ef9ff77a",
   "metadata": {},
   "outputs": [],
   "source": [
    "conda install -c conda-forge imbalanced-learn"
   ]
  },
  {
   "cell_type": "code",
   "execution_count": null,
   "id": "281dad7a-c6e7-4d4b-96ab-c36aa20800fc",
   "metadata": {},
   "outputs": [],
   "source": [
    "!pip install BorutaShap"
   ]
  },
  {
   "cell_type": "code",
   "execution_count": null,
   "id": "0f37d313-6ad4-4f12-afa0-a4c484579c35",
   "metadata": {},
   "outputs": [],
   "source": [
    "conda install -c conda-forge boruta_py"
   ]
  },
  {
   "cell_type": "code",
   "execution_count": null,
   "id": "6d128f11-0526-40b8-8dba-c3d1e89093be",
   "metadata": {},
   "outputs": [],
   "source": [
    "import numpy as np # linear algebra\n",
    "import pandas as pd # data processing, CSV file I/O (e.g. pd.read_csv)\n",
    "import matplotlib.pyplot as plt\n",
    "import seaborn as sns\n",
    "\n",
    "from imblearn.over_sampling import SMOTE\n",
    "from BorutaShap import BorutaShap, load_data\n",
    "from boruta import BorutaPy\n",
    "from sklearn.preprocessing import StandardScaler\n",
    "from sklearn.metrics import roc_auc_score, roc_curve, classification_report, accuracy_score, confusion_matrix, precision_score, recall_score, roc_auc_score\n",
    "from sklearn.model_selection import train_test_split\n",
    "from sklearn.linear_model import LogisticRegression\n",
    "from sklearn.ensemble import RandomForestRegressor\n",
    "from sklearn.neighbors import KNeighborsClassifier\n",
    "from sklearn.tree import DecisionTreeClassifier\n",
    "from sklearn.svm import SVC, LinearSVC"
   ]
  },
  {
   "cell_type": "code",
   "execution_count": null,
   "id": "a1d9c5c4-1124-4eab-a641-56ea31b5cb83",
   "metadata": {},
   "outputs": [],
   "source": [
    "#set display max column to see all column\n",
    "pd.set_option(\"display.max_columns\", None)\n",
    "pd.get_option(\"display.max_columns\")\n",
    "\n",
    "#set display max column to see all column\n",
    "pd.set_option(\"display.max_rows\", 150)\n",
    "pd.get_option(\"display.max_rows\")"
   ]
  },
  {
   "cell_type": "code",
   "execution_count": null,
   "id": "d8bda0f9-ceb7-4504-b166-34efcc599dba",
   "metadata": {},
   "outputs": [],
   "source": [
    "app_train = pd.read_csv(r'C:\\Users\\Admin\\Documents\\GitHub\\CreditRiskML\\data/german.csv')"
   ]
  },
  {
   "cell_type": "code",
   "execution_count": null,
   "id": "a71646ef-c082-4bb3-849e-523c54a8430d",
   "metadata": {},
   "outputs": [],
   "source": [
    "feature_names =    ['Creditability', 'Account_Balance', 'Duration_of_Credit_monthly', 'Payment_Status_of_Previous_Credit', 'Purpose\tCredit_Amount', 'Value_Savings_Stocks', 'Length_of_current_employment', 'Instalment_per_cent', 'Sex_Marital_Status', 'Guarantors', 'Duration_in_Current_address', 'Most_valuable_available_asset', 'Age_years', 'Concurrent_Credits', 'Type_of_apartment', 'No_of_Credits_at_this_Bank', 'Occupation', 'No_of_dependents', 'Telephone', 'Foreign_Worker']"
   ]
  },
  {
   "cell_type": "code",
   "execution_count": null,
   "id": "ba11bbda-a7e4-488f-8221-c4eddd643e1b",
   "metadata": {},
   "outputs": [],
   "source": [
    "app_train.tail()"
   ]
  },
  {
   "cell_type": "code",
   "execution_count": null,
   "id": "04e561bf-4a57-4270-a76e-7c40b3c60acd",
   "metadata": {},
   "outputs": [],
   "source": [
    "app_train[\"Payment_Status_of_Previous_Credit\"].value_counts()\n"
   ]
  },
  {
   "cell_type": "code",
   "execution_count": null,
   "id": "154903d4-e8bc-49de-bd58-57cba0a83d9c",
   "metadata": {},
   "outputs": [],
   "source": [
    "app_train['Payment_Status_of_Previous_Credit'].astype(int).plot.hist();"
   ]
  },
  {
   "cell_type": "code",
   "execution_count": null,
   "id": "c158e8a1-78fc-450c-b06f-dc4370cb4eb1",
   "metadata": {},
   "outputs": [],
   "source": [
    "print(app_train.dtypes)"
   ]
  },
  {
   "cell_type": "code",
   "execution_count": null,
   "id": "0ed37609-e779-43f1-b95e-37e96ea211f3",
   "metadata": {},
   "outputs": [],
   "source": [
    "feature_names =    ['Creditability','Account_Balance', 'Duration_of_Credit_monthly', 'Payment_Status_of_Previous_Credit',  'Credit_Amount', 'Value_Savings_Stocks',  'Length_of_current_employment',\n",
    "   'Most_valuable_available_asset', 'Age_years', 'No_of_Credits_at_this_Bank', 'Occupation', 'Foreign_Worker']"
   ]
  },
  {
   "cell_type": "code",
   "execution_count": null,
   "id": "94da5848-f045-4317-b478-3bd0fc585bd9",
   "metadata": {},
   "outputs": [],
   "source": [
    "def yfromX(X):\n",
    "    y = X['Creditability'] + X['Duration_of_Credit_monthly']**2 + np.sin(3 * X['Account_Balance']) + (X['Payment_Status_of_Previous_Credit'] * X['Credit_Amount'] * X['Age_years'])\n",
    "    return y"
   ]
  },
  {
   "cell_type": "code",
   "execution_count": null,
   "id": "d6ef4bf3-0e7b-479b-a0c4-eefd95d388c8",
   "metadata": {},
   "outputs": [],
   "source": [
    "##Data that is important\n",
    "#importantstuff = list(X.columns[boruta.support_])\n",
    "#print(f\"stuff that is important: {importantstuff}\")\n",
    "##Data that is important but not confirmed\n",
    "#maybeimportant = list(X.columns[boruta.support_weak_])\n",
    "#print(f\"stuff that might be important: {maybeimportant}\")\n",
    "##Just garbage...\n",
    "#uselessstuff = list(X.columns[~(boruta.support_ | boruta.support_weak_)])\n",
    "#print(f\"stuff that is just useless: {uselessstuff}\")"
   ]
  },
  {
   "cell_type": "code",
   "execution_count": null,
   "id": "505bc1e0-47ec-4164-b829-e5eb3ea0d6b6",
   "metadata": {},
   "outputs": [],
   "source": [
    "np.random.seed(0)\n",
    "\n",
    "X = pd.DataFrame(np.random.normal(size = (20000, len(feature_names))), columns = feature_names)\n",
    "y = yfromX(X)\n",
    "\n",
    "X_train, X_test, y_train, y_test = train_test_split(X, y, test_size=0.2, random_state=42) "
   ]
  },
  {
   "cell_type": "code",
   "execution_count": null,
   "id": "a97284eb-ddf5-4975-bee7-752f3fbd2389",
   "metadata": {},
   "outputs": [],
   "source": [
    "#need to chose estimator obv\n",
    "estimator = RandomForestRegressor()"
   ]
  },
  {
   "cell_type": "code",
   "execution_count": null,
   "id": "c332d2cd-f1de-4383-bc8d-66068e8717cd",
   "metadata": {},
   "outputs": [],
   "source": [
    "#object n stuff\n",
    "boruta = BorutaPy(estimator = estimator, n_estimators = 'auto', max_iter = 100)\n",
    "boruta.fit(np.array(X_train), np.array(y_train))"
   ]
  },
  {
   "cell_type": "code",
   "execution_count": null,
   "id": "9f0ad985-5198-42e0-96cf-d5e87a455e84",
   "metadata": {},
   "outputs": [],
   "source": [
    "##Data that is important\n",
    "importantstuff = list(X.columns[boruta.support_])\n",
    "print(f\"stuff that is important: {importantstuff}\")\n",
    "##Data that is important but not confirmed\n",
    "maybeimportant = list(X.columns[boruta.support_weak_])\n",
    "print(f\"stuff that might be important: {maybeimportant}\")\n",
    "##Just garbage...\n",
    "uselessstuff = list(X.columns[~(boruta.support_ | boruta.support_weak_)])\n",
    "print(f\"stuff that is just useless: {uselessstuff}\")"
   ]
  },
  {
   "cell_type": "code",
   "execution_count": null,
   "id": "b15c5cb4-79bb-4c99-b182-c799bde30454",
   "metadata": {},
   "outputs": [],
   "source": []
  }
 ],
 "metadata": {
  "kernelspec": {
   "display_name": "Python 3 (ipykernel)",
   "language": "python",
   "name": "python3"
  },
  "language_info": {
   "codemirror_mode": {
    "name": "ipython",
    "version": 3
   },
   "file_extension": ".py",
   "mimetype": "text/x-python",
   "name": "python",
   "nbconvert_exporter": "python",
   "pygments_lexer": "ipython3",
   "version": "3.9.13"
  }
 },
 "nbformat": 4,
 "nbformat_minor": 5
}
