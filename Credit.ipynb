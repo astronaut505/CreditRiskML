{
 "cells": [
  {
   "cell_type": "code",
   "execution_count": null,
   "id": "add1fa5d-043c-473a-84b9-eb36ef9ff77a",
   "metadata": {},
   "outputs": [],
   "source": [
    "conda install -c conda-forge imbalanced-learn"
   ]
  },
  {
   "cell_type": "code",
   "execution_count": null,
   "id": "02ce39d8-dc6a-454c-929f-2348b95dcbd7",
   "metadata": {},
   "outputs": [],
   "source": [
    "conda install -c conda-forge boruta_py"
   ]
  },
  {
   "cell_type": "code",
   "execution_count": null,
   "id": "6d128f11-0526-40b8-8dba-c3d1e89093be",
   "metadata": {},
   "outputs": [],
   "source": [
    "import numpy as np # linear algebra\n",
    "import pandas as pd # data processing, CSV file I/O (e.g. pd.read_csv)\n",
    "import matplotlib.pyplot as plt\n",
    "import seaborn as sns\n",
    "\n",
    "from imblearn.over_sampling import SMOTE\n",
    "from sklearn.preprocessing import StandardScaler\n",
    "from sklearn.metrics import roc_auc_score, roc_curve, classification_report, accuracy_score, confusion_matrix, precision_score, recall_score, roc_auc_score\n",
    "from sklearn.model_selection import train_test_split\n",
    "from sklearn.linear_model import LogisticRegression\n",
    "from sklearn.ensemble import RandomForestRegressor\n",
    "from sklearn.neighbors import KNeighborsClassifier\n",
    "from sklearn.tree import DecisionTreeClassifier\n",
    "from sklearn.svm import SVC, LinearSVC"
   ]
  },
  {
   "cell_type": "code",
   "execution_count": null,
   "id": "a1d9c5c4-1124-4eab-a641-56ea31b5cb83",
   "metadata": {},
   "outputs": [],
   "source": [
    "#set display max column to see all column\n",
    "pd.set_option(\"display.max_columns\", None)\n",
    "pd.get_option(\"display.max_columns\")\n",
    "\n",
    "#set display max column to see all column\n",
    "pd.set_option(\"display.max_rows\", 150)\n",
    "pd.get_option(\"display.max_rows\")"
   ]
  },
  {
   "cell_type": "code",
   "execution_count": null,
   "id": "d8bda0f9-ceb7-4504-b166-34efcc599dba",
   "metadata": {},
   "outputs": [],
   "source": [
    "app_train = pd.read_csv(r'C:\\Users\\Admin\\Documents\\GitHub\\CreditRiskML2\\data/loan1.csv')"
   ]
  },
  {
   "cell_type": "code",
   "execution_count": null,
   "id": "a71646ef-c082-4bb3-849e-523c54a8430d",
   "metadata": {},
   "outputs": [],
   "source": [
    "featurenames =    ['Creditability', 'Account_Balance', 'Duration_of_Credit_monthly', 'Payment_Status_of_Previous_Credit', 'Purpose\tCredit_Amount', 'Value_Savings_Stocks', 'Length_of_current_employment', 'Instalment_per_cent', 'Sex_Marital_Status', 'Guarantors', 'Duration_in_Current_address', 'Most_valuable_available_asset', 'Age_years', 'Concurrent_Credits', 'Type_of_apartment', 'No_of_Credits_at_this_Bank', 'Occupation', 'No_of_dependents', 'Telephone', 'Foreign_Worker']"
   ]
  },
  {
   "cell_type": "code",
   "execution_count": null,
   "id": "ba11bbda-a7e4-488f-8221-c4eddd643e1b",
   "metadata": {},
   "outputs": [],
   "source": [
    "app_train.tail()"
   ]
  },
  {
   "cell_type": "code",
   "execution_count": null,
   "id": "04e561bf-4a57-4270-a76e-7c40b3c60acd",
   "metadata": {},
   "outputs": [],
   "source": [
    "app_train[\"Payment_Status_of_Previous_Credit\"].value_counts()\n"
   ]
  },
  {
   "cell_type": "code",
   "execution_count": null,
   "id": "154903d4-e8bc-49de-bd58-57cba0a83d9c",
   "metadata": {},
   "outputs": [],
   "source": [
    "app_train['Payment_Status_of_Previous_Credit'].astype(int).plot.hist();"
   ]
  },
  {
   "cell_type": "code",
   "execution_count": null,
   "id": "c158e8a1-78fc-450c-b06f-dc4370cb4eb1",
   "metadata": {},
   "outputs": [],
   "source": [
    "print(app_train.dtypes)"
   ]
  },
  {
   "cell_type": "code",
   "execution_count": null,
   "id": "d9b16830-6ce5-49f1-bc01-6684feacd697",
   "metadata": {},
   "outputs": [],
   "source": [
    "#looking for broken data\n",
    "app_train.describe()"
   ]
  },
  {
   "cell_type": "code",
   "execution_count": null,
   "id": "0ed37609-e779-43f1-b95e-37e96ea211f3",
   "metadata": {},
   "outputs": [],
   "source": [
    "featurenames =    ['Creditability','Account_Balance', 'Duration_of_Credit_monthly', 'Payment_Status_of_Previous_Credit',  'Credit_Amount', 'Value_Savings_Stocks',  'Length_of_current_employment',\n",
    "   'Most_valuable_available_asset', 'Age_years', 'No_of_Credits_at_this_Bank', 'Occupation', 'Foreign_Worker']"
   ]
  },
  {
   "cell_type": "code",
   "execution_count": null,
   "id": "94da5848-f045-4317-b478-3bd0fc585bd9",
   "metadata": {},
   "outputs": [],
   "source": [
    "def yfromX(X):\n",
    "    y = X['Creditability'] + X['Duration_of_Credit_monthly']**2 + np.sin(3 * X['Account_Balance']) + (X['Payment_Status_of_Previous_Credit'] * X['Credit_Amount'] * X['Age_years'])\n",
    "    return y"
   ]
  },
  {
   "cell_type": "code",
   "execution_count": null,
   "id": "e21de1c1-63eb-42aa-9a30-edbacd73f2b8",
   "metadata": {},
   "outputs": [],
   "source": [
    "# creating xy\n",
    "np.random.seed(0)\n",
    "\n",
    "X = pd.DataFrame(np.random.normal(size = (20000, len(featurenames))), columns = featurenames)\n",
    "y = yfromX(X)\n",
    "\n",
    "X_train, X_test, y_train, y_test = train_test_split(X, y, test_size=0.2, random_state=42) "
   ]
  },
  {
   "cell_type": "code",
   "execution_count": null,
   "id": "026ed3c5-1c6d-4b2d-9c05-f9984ee9e9b6",
   "metadata": {},
   "outputs": [],
   "source": [
    "\n",
    "##Data that is important\n",
    "importantstuff = list(X.columns[boruta.support_])\n",
    "print(f\"stuff that is important: {importantstuff}\")\n",
    "##Data that is important but not confirmed\n",
    "maybeimportant = list(X.columns[boruta.support_weak_])\n",
    "print(f\"stuff that might be important: {maybeimportant}\")\n",
    "##Just garbage...\n",
    "uselessstuff = list(X.columns[~(boruta.support_ | boruta.support_weak_)])\n",
    "print(f\"stuff that is just useless: {uselessstuff}\")"
   ]
  },
  {
   "cell_type": "code",
   "execution_count": null,
   "id": "505bc1e0-47ec-4164-b829-e5eb3ea0d6b6",
   "metadata": {},
   "outputs": [],
   "source": [
    "np.random.seed(0)\n",
    "\n",
    "X = pd.DataFrame(np.random.normal(size = (20000, len(featurenames))), columns = featurenames)\n",
    "y = yfromX(X)\n",
    "\n",
    "X_train, X_test, y_train, y_test = train_test_split(X, y, test_size=0.2, random_state=42) "
   ]
  },
  {
   "cell_type": "code",
   "execution_count": null,
   "id": "a97284eb-ddf5-4975-bee7-752f3fbd2389",
   "metadata": {},
   "outputs": [],
   "source": [
    "#need to chose estimator obv\n",
    "estimator = RandomForestRegressor()"
   ]
  },
  {
   "cell_type": "code",
   "execution_count": null,
   "id": "7285a7fd-c83c-42d1-a099-58cf8a678193",
   "metadata": {},
   "outputs": [],
   "source": [
    "# Find correlation with the target and sort\n",
    "correlations = app_train.corr()['Creditability'].sort_values()\n",
    "\n",
    "# Display correlations\n",
    "print('Postive Correlations:\\n', correlations.tail(15))\n",
    "print('\\nNegative Correlations:\\n', correlations.head(15))"
   ]
  },
  {
   "cell_type": "code",
   "execution_count": null,
   "id": "c332d2cd-f1de-4383-bc8d-66068e8717cd",
   "metadata": {},
   "outputs": [],
   "source": [
    "#object n stuff\n",
    "boruta = BorutaPy(estimator = estimator, n_estimators = 'auto', max_iter = 100)\n",
    "boruta.fit(np.array(X_train), np.array(y_train))"
   ]
  },
  {
   "cell_type": "code",
   "execution_count": null,
   "id": "337c7360-0c1d-496b-a80e-24ba70a17711",
   "metadata": {},
   "outputs": [],
   "source": [
    "app_train_selected = app_train[['Duration_in_Current_address', 'No_of_dependents', 'Type_of_apartment', 'Guarantors', 'Telephone', 'No_of_Credits_at_this_Bank', 'Foreign_Worker', 'Sex_Marital_Status', 'Age_years', 'Concurrent_Credits', 'Length_of_current_employment', 'Value_Savings_Stocks', 'Payment_Status_of_Previous_Credit', 'Account_Balance']]"
   ]
  },
  {
   "cell_type": "code",
   "execution_count": null,
   "id": "11d8c737-253d-412f-aa43-d603b588291d",
   "metadata": {},
   "outputs": [],
   "source": [
    "#x_train, x_test, y_train, y_test = train_test_split(x_smote, y_smote, test_size = .3, random_state = 10)"
   ]
  },
  {
   "cell_type": "code",
   "execution_count": null,
   "id": "5953f5d7-afb6-44a4-9466-54a8295fd639",
   "metadata": {},
   "outputs": [],
   "source": [
    "\n",
    "new_rf = RandomForestRegressor(n_jobs = -1, max_depth = 5)\n",
    "\n",
    "boruta_selector = BorutaPy(new_rf, n_estimators = 'auto', random_state = 0)\n",
    "boruta_selector.fit(np.array(X_train), np.array(y_train))\n",
    "\n",
    "boruta_ranking = boruta_selector.ranking_\n",
    "selected_features = np.array(featurenames)[boruta_ranking <= 2]"
   ]
  },
  {
   "cell_type": "code",
   "execution_count": null,
   "id": "d33cb7ad-cc2e-4d81-afaf-90337453e86c",
   "metadata": {},
   "outputs": [],
   "source": [
    "boruta_ranking = pd.DataFrame(data=boruta_ranking, index=X_train.columns.values, columns=['values'])\n",
    "boruta_ranking['Variable'] = boruta_ranking.index\n",
    "boruta_ranking.sort_values(['values'], ascending=True, inplace=True)"
   ]
  },
  {
   "cell_type": "code",
   "execution_count": null,
   "id": "5191da1b-40e1-47d8-970b-245b9355ac61",
   "metadata": {},
   "outputs": [],
   "source": [
    "fig,ax = plt.subplots(figsize=(8,4))\n",
    "ax = sns.barplot(x='values',y='Variable',data=boruta_ranking, color='b')\n",
    "plt.title('Boruta Feature Ranking')\n",
    "plt.xlabel('')\n",
    "plt.ylabel('')\n",
    "plt.tight_layout()"
   ]
  },
  {
   "cell_type": "code",
   "execution_count": null,
   "id": "c2b9ca78-5d8b-41b8-b21b-467ca76db72b",
   "metadata": {},
   "outputs": [],
   "source": [
    "# The output from Boruta is a ranking number (Rank 1: confirmed, Rank 2: moderate influence, Above Rank 3: Rejected). \n",
    "# As a result, we can group them according to need. Every attribute with a rank of 1 denotes a verified impact on the target variable (creditability). \n",
    "# A rating of 2 implies some influence. Anything over 3 can be disregarded because it has no influence.\n",
    "# We selected all the appropriate dependent variables using Boruta, and we eliminated the noise.\n",
    "# Boruta can be a very effective tool for comparing the relevance of features using traditional approaches."
   ]
  },
  {
   "cell_type": "code",
   "execution_count": null,
   "id": "f0810193-fab4-4bb7-b19a-a00ad976dd7f",
   "metadata": {},
   "outputs": [],
   "source": []
  }
 ],
 "metadata": {
  "kernelspec": {
   "display_name": "Python 3 (ipykernel)",
   "language": "python",
   "name": "python3"
  },
  "language_info": {
   "codemirror_mode": {
    "name": "ipython",
    "version": 3
   },
   "file_extension": ".py",
   "mimetype": "text/x-python",
   "name": "python",
   "nbconvert_exporter": "python",
   "pygments_lexer": "ipython3",
   "version": "3.9.13"
  }
 },
 "nbformat": 4,
 "nbformat_minor": 5
}
