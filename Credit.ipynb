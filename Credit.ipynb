{
 "cells": [
  {
   "cell_type": "code",
   "execution_count": null,
   "id": "add1fa5d-043c-473a-84b9-eb36ef9ff77a",
   "metadata": {},
   "outputs": [],
   "source": [
    "conda install -c conda-forge imbalanced-learn"
   ]
  },
  {
   "cell_type": "code",
   "execution_count": null,
   "id": "0f37d313-6ad4-4f12-afa0-a4c484579c35",
   "metadata": {},
   "outputs": [],
   "source": [
    "conda install -c conda-forge boruta_py"
   ]
  },
  {
   "cell_type": "code",
   "execution_count": null,
   "id": "e5174cf6-fcea-4632-bebf-b9a77ce75631",
   "metadata": {},
   "outputs": [],
   "source": [
    "conda install -c conda-forge lightgbm"
   ]
  },
  {
   "cell_type": "code",
   "execution_count": null,
   "id": "3c3363ab-4c56-41c3-819b-6bffbca189da",
   "metadata": {},
   "outputs": [],
   "source": [
    "conda install scikit-learn"
   ]
  },
  {
   "cell_type": "code",
   "execution_count": null,
   "id": "6d128f11-0526-40b8-8dba-c3d1e89093be",
   "metadata": {},
   "outputs": [],
   "source": [
    "import numpy as np # linear algebra\n",
    "import pandas as pd # data processing, CSV file I/O (e.g. pd.read_csv)\n",
    "from sklearn.linear_model import LinearRegression\n",
    "\n",
    "from sklearn.svm import SVC\n",
    "from sklearn.neighbors import KNeighborsRegressor\n",
    "from sklearn.svm import SVR\n",
    "from sklearn.ensemble import RandomForestRegressor\n",
    "from sklearn.linear_model import LogisticRegression\n",
    "from xgboost import XGBRegressor\n",
    "from sklearn.metrics import mean_absolute_error\n",
    "from eli5.sklearn import PermutationImportance\n",
    "from boruta import BorutaPy\n",
    "\n",
    "\n",
    "import matplotlib.pyplot as plt\n",
    "import seaborn as sns\n",
    "from matplotlib.ticker import FuncFormatter \n",
    "import matplotlib.ticker as mtick"
   ]
  },
  {
   "cell_type": "code",
   "execution_count": null,
   "id": "d8bda0f9-ceb7-4504-b166-34efcc599dba",
   "metadata": {},
   "outputs": [],
   "source": [
    "app_train = pd.read_csv(r'C:\\Users\\Admin\\Documents\\GitHub\\CreditRiskML\\data/loan1.csv')"
   ]
  },
  {
   "cell_type": "code",
   "execution_count": null,
   "id": "72bc0cf8-6d64-4fc8-9140-61faf053626f",
   "metadata": {},
   "outputs": [],
   "source": [
    "pd.set_option('display.max_columns', None)\n",
    "pd.set_option('display.max_rows', 100)\n",
    "\n",
    "app_train.head(200)"
   ]
  },
  {
   "cell_type": "code",
   "execution_count": null,
   "id": "04e561bf-4a57-4270-a76e-7c40b3c60acd",
   "metadata": {},
   "outputs": [],
   "source": [
    "featurenames =    ['Creditability','Account_Balance', 'Duration_of_Credit_monthly', 'Payment_Status_of_Previous_Credit',  'Credit_Amount', 'Value_Savings_Stocks',  'Length_of_current_employment',\n",
    "   'Most_valuable_available_asset', 'Age_years', 'No_of_Credits_at_this_Bank', 'Occupation', 'Foreign_Worker']"
   ]
  },
  {
   "cell_type": "code",
   "execution_count": null,
   "id": "6167edfc-4c22-4af2-8b7e-bb5a01223d1d",
   "metadata": {},
   "outputs": [],
   "source": [
    "app_train_clean=app_train.drop(['Duration_of_Credit_monthly','Instalment_per_cent','Duration_in_Current_address','Most_valuable_available_asset','Age_years','Type_of_apartment','Occupation'\n",
    "                 ,'No_of_dependents','Telephone','Foreign_Worker','Guarantors','Sex_Marital_Status'], axis=1)\n",
    "app_train_clean"
   ]
  },
  {
   "cell_type": "code",
   "execution_count": null,
   "id": "08b1584c-e585-48c7-95a9-1e35c4d07fc0",
   "metadata": {},
   "outputs": [],
   "source": [
    "app_train_clean.isnull().sum()"
   ]
  },
  {
   "cell_type": "code",
   "execution_count": null,
   "id": "3be9b4ac-9e51-476f-b8bf-01aaf1079c75",
   "metadata": {},
   "outputs": [],
   "source": [
    "app_train_clean['Creditability'].unique()\n"
   ]
  },
  {
   "cell_type": "code",
   "execution_count": null,
   "id": "f8b00416-35ce-43d5-adb0-1ffa2bd6128b",
   "metadata": {},
   "outputs": [],
   "source": [
    "app_train_clean['Account_Balance'].unique()"
   ]
  },
  {
   "cell_type": "code",
   "execution_count": null,
   "id": "2ae0723c-4a29-44d0-bd4d-5592fc40a625",
   "metadata": {},
   "outputs": [],
   "source": [
    "#def yfromX(X):\n",
    "    #y = X['Creditability'] + X['Duration_of_Credit_monthly']**2 + np.sin(3 * X['Account_Balance']) + (X['Payment_Status_of_Previous_Credit'] * X['Credit_Amount'] * X['Age_years'])\n",
    "    #return y"
   ]
  },
  {
   "cell_type": "code",
   "execution_count": null,
   "id": "a28f2cf0-c403-440f-9c6c-406131e82319",
   "metadata": {},
   "outputs": [],
   "source": [
    "from sklearn.model_selection import train_test_split\n",
    "np.random.seed(0)\n",
    "\n",
    "X = app_train_clean.drop('Creditability',axis=1)\n",
    "y = app_train_clean['Creditability']\n",
    "\n",
    "X_train, X_test, y_train, y_test = train_test_split(X, y, test_size=0.2, random_state=42) "
   ]
  },
  {
   "cell_type": "code",
   "execution_count": null,
   "id": "6c3afc5f-27d4-4448-a586-da3c8d163332",
   "metadata": {},
   "outputs": [],
   "source": [
    "from sklearn.preprocessing import MinMaxScaler\n",
    "scl = MinMaxScaler().fit(X)\n",
    "X_train = scl.transform(X_train)\n",
    "X_test = scl.transform(X_test)"
   ]
  },
  {
   "cell_type": "code",
   "execution_count": null,
   "id": "bd209217-395b-499d-bccc-ad417df2e5e5",
   "metadata": {},
   "outputs": [],
   "source": [
    "from sklearn.linear_model import LogisticRegression\n",
    "from sklearn.model_selection import cross_val_predict\n",
    "yp = cross_val_predict(LogisticRegression(random_state=0), X , y,cv=2)\n",
    "train_acc=sum(yp==y)/len(y)\n",
    "train_acc"
   ]
  },
  {
   "cell_type": "code",
   "execution_count": null,
   "id": "92c66009-58b1-4477-804b-f173e3d20fa7",
   "metadata": {},
   "outputs": [],
   "source": [
    "clf = LogisticRegression(random_state=0).fit(X, y)\n",
    "yp = clf.predict(X_train)\n",
    "test_acc = sum(yp == y_train) / len(y_train)\n",
    "test_acc"
   ]
  },
  {
   "cell_type": "code",
   "execution_count": null,
   "id": "30c55015-3eb7-4480-8b0d-3a8839c5b69e",
   "metadata": {},
   "outputs": [],
   "source": [
    "rf = RandomForestRegressor(max_depth=5)\n",
    "rf.fit(X_train, y_train)\n",
    "\n",
    "rf_train_preds = rf.predict(X_train)\n",
    "rf_test_preds = rf.predict(X_test)\n",
    "\n",
    "rf_train_mae = mean_absolute_error(y_train, rf_train_preds)\n",
    "rf_test_mae = mean_absolute_error(y_test, rf_test_preds)\n",
    "\n",
    "rf_fi = rf.feature_importances_"
   ]
  },
  {
   "cell_type": "code",
   "execution_count": null,
   "id": "95dc75f5-935e-4289-81bc-3e610821091e",
   "metadata": {},
   "outputs": [],
   "source": [
    "new_rf = RandomForestRegressor(n_jobs = -1, max_depth = 5)\n",
    "\n",
    "boruta_selector = BorutaPy(new_rf, n_estimators = 'auto', random_state = 0)\n",
    "boruta_selector.fit(np.array(X_train), np.array(y_train))\n",
    "\n",
    "boruta_ranking = boruta_selector.ranking_\n",
    "selected_features = np.array(featurenames)[boruta_ranking <= 2]"
   ]
  },
  {
   "cell_type": "code",
   "execution_count": null,
   "id": "80f6ee44-b7b3-41f0-a400-e4df18d3b6a0",
   "metadata": {},
   "outputs": [],
   "source": [
    "boruta_ranking = pd.DataFrame(data=boruta_ranking, index=X_train.columns.values, columns=['values'])\n",
    "boruta_ranking['Variable'] = boruta_ranking.index\n",
    "boruta_ranking.sort_values(['values'], ascending=True, inplace=True)"
   ]
  },
  {
   "cell_type": "code",
   "execution_count": null,
   "id": "f4220a03-0b8b-4e13-8c3c-ac0a456d4723",
   "metadata": {},
   "outputs": [],
   "source": [
    "fig,ax = plt.subplots(figsize=(8,4))\n",
    "ax = sns.barplot(x='values',y='Variable',data=boruta_ranking, color='r')\n",
    "plt.title('Boruta Feature Ranking')\n",
    "plt.xlabel('')\n",
    "plt.ylabel('')\n",
    "plt.tight_layout()"
   ]
  },
  {
   "cell_type": "code",
   "execution_count": null,
   "id": "b4daa13e-f601-430c-8dee-587c18d6b7cb",
   "metadata": {},
   "outputs": [],
   "source": [
    "# SVM Model\n",
    "svc = SVC(random_state=42)\n",
    "svc.fit(X_train, y_train)\n",
    "svc_pred = svc.predict(X_test)\n",
    "\n",
    "# SVM Evaluation\n",
    "svc_acc = accuracy_score(y_test, svc_pred)\n",
    "svc_cm = confusion_matrix(y_test, svc_pred)\n",
    "svc_cr = classification_report(y_test, svc_pred)\n",
    "\n",
    "print('SVM Accuracy: ', svc_acc)\n",
    "print('SVM Confusion Matrix: \\n', svc_cm)\n",
    "print('SVM Classification Report: \\n', svc_cr)"
   ]
  },
  {
   "cell_type": "code",
   "execution_count": null,
   "id": "b606a7ad-56b2-4650-8b45-888346660654",
   "metadata": {},
   "outputs": [],
   "source": []
  }
 ],
 "metadata": {
  "kernelspec": {
   "display_name": "Python 3 (ipykernel)",
   "language": "python",
   "name": "python3"
  },
  "language_info": {
   "codemirror_mode": {
    "name": "ipython",
    "version": 3
   },
   "file_extension": ".py",
   "mimetype": "text/x-python",
   "name": "python",
   "nbconvert_exporter": "python",
   "pygments_lexer": "ipython3",
   "version": "3.9.13"
  }
 },
 "nbformat": 4,
 "nbformat_minor": 5
}
